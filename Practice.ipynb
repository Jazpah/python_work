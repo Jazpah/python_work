{
 "cells": [
  {
   "cell_type": "code",
   "execution_count": 6,
   "id": "80c8827a",
   "metadata": {},
   "outputs": [
    {
     "name": "stdout",
     "output_type": "stream",
     "text": [
      "bmi = \n",
      "12.5\n",
      "bmi = \n",
      "3.75\n",
      "bmi = \n",
      "2.2222222222222223\n",
      "Jasper is not overweight\n",
      "Chuks is not overweight\n",
      "Uju is not overweight\n"
     ]
    }
   ],
   "source": [
    "#BMI of Youth\n",
    "\n",
    "name1 = 'Jasper'\n",
    "height_m1 = 2\n",
    "weight_kg1 = 50\n",
    "\n",
    "name2 = 'Chuks'\n",
    "height_m2 = 4\n",
    "weight_kg2 = 60\n",
    "\n",
    "name3 = 'Uju'\n",
    "height_m3 = 6\n",
    "weight_kg3 = 80\n",
    "\n",
    "def bmi_of_youths(name, height_m, weight_kg):\n",
    "    bmi = weight_kg / (height_m ** 2)\n",
    "    print('bmi = ')\n",
    "    print(bmi)\n",
    "    if bmi < 40:\n",
    "        return name + \" is not overweight\"\n",
    "    else:\n",
    "        return name + \" is overweight\"\n",
    "    \n",
    "result1 = bmi_of_youths(name1, height_m1, weight_kg1)\n",
    "result2 = bmi_of_youths(name2, height_m2, weight_kg2) \n",
    "result3 = bmi_of_youths(name3, height_m3, weight_kg3) \n",
    "\n",
    "print(result1)\n",
    "print(result2)\n",
    "print(result3)"
   ]
  },
  {
   "cell_type": "code",
   "execution_count": 10,
   "id": "ad5669af",
   "metadata": {},
   "outputs": [
    {
     "name": "stdout",
     "output_type": "stream",
     "text": [
      "km =  48.0\n",
      "48.0\n",
      "Equal\n"
     ]
    }
   ],
   "source": [
    "#Convert miles to kilometers\n",
    "def km(miles):\n",
    "    km = 1.6 * miles\n",
    "    print('km = ', km)\n",
    "    print(km)\n",
    "    if km > 50:\n",
    "        return \"nice\"\n",
    "    elif km == 48:\n",
    "        return \"Equal\"\n",
    "    else:\n",
    "        return \"not nice\"\n",
    "    \n",
    "\n",
    "    \n",
    "a = km(30)\n",
    "print(a)"
   ]
  },
  {
   "cell_type": "code",
   "execution_count": 12,
   "id": "2549b0ae",
   "metadata": {},
   "outputs": [
    {
     "name": "stdout",
     "output_type": "stream",
     "text": [
      "bmi =  12.345679012345679\n",
      "bmi =  120.0\n",
      "bmi =  21.875\n",
      "bmi =  6.122448979591836\n",
      "bmi =  51.020408163265316\n",
      "bmi =  7.012417823228633\n",
      "Comfort is normal\n",
      "Jasper is overweight\n",
      "Chuks is normal\n",
      "Uju is normal\n",
      "Somto is overweight\n",
      "Vero is normal\n"
     ]
    }
   ],
   "source": [
    "#bmi of youths\n",
    "\n",
    "name1 = \"Comfort\"\n",
    "height_m1 = 1.8\n",
    "weight_kg1 = 40\n",
    "\n",
    "name2 = \"Jasper\"\n",
    "height_m2 = 1\n",
    "weight_kg2 = 120\n",
    "\n",
    "name3 = \"Chuks\"\n",
    "height_m3 = 4\n",
    "weight_kg3 = 350\n",
    "\n",
    "name4 = \"Uju\"\n",
    "height_m4 = 3.5\n",
    "weight_kg4 = 75\n",
    "\n",
    "name5 = \"Somto\"\n",
    "height_m5 = 2.8\n",
    "weight_kg5 = 400\n",
    "\n",
    "name6 = \"Vero\"\n",
    "height_m6 = 3.7\n",
    "weight_kg6 = 96\n",
    "\n",
    "def bmi_of_youths(name, height_m, weight_kg):\n",
    "    bmi = weight_kg / (height_m ** 2)\n",
    "    print(\"bmi = \", bmi)\n",
    "    if bmi < 40:\n",
    "        return name + \" is normal\"\n",
    "    else:\n",
    "        return name + \" is overweight\"\n",
    "\n",
    "result1 = bmi_of_youths(name1, height_m1, weight_kg1)\n",
    "result2 = bmi_of_youths(name2, height_m2, weight_kg2)\n",
    "result3 = bmi_of_youths(name3, height_m3, weight_kg3)\n",
    "result4 = bmi_of_youths(name4, height_m4, weight_kg4)\n",
    "result5 = bmi_of_youths(name5, height_m5, weight_kg5)\n",
    "result6 = bmi_of_youths(name6, height_m6, weight_kg6)\n",
    "\n",
    "print(result1)\n",
    "print(result2)\n",
    "print(result3)\n",
    "print(result4)\n",
    "print(result5)\n",
    "print(result6)"
   ]
  },
  {
   "cell_type": "code",
   "execution_count": 2,
   "id": "9187f455",
   "metadata": {},
   "outputs": [
    {
     "name": "stdout",
     "output_type": "stream",
     "text": [
      "-25\n"
     ]
    }
   ],
   "source": [
    "#Sum of the negative numbers \n",
    "b = [3, 4, 7, -2, -9, -7, -7]\n",
    "total = 0\n",
    "for i in b:\n",
    "    if i < 0:\n",
    "        total += i\n",
    "print(total)\n"
   ]
  },
  {
   "cell_type": "code",
   "execution_count": 4,
   "id": "e67f00dc",
   "metadata": {},
   "outputs": [
    {
     "name": "stdout",
     "output_type": "stream",
     "text": [
      "22\n"
     ]
    }
   ],
   "source": [
    "a = [3, 6, 7, 9]\n",
    "total = 0\n",
    "for i in a:\n",
    "    if i > 5:\n",
    "        total += i\n",
    "print(total)"
   ]
  },
  {
   "cell_type": "code",
   "execution_count": null,
   "id": "19f23909",
   "metadata": {},
   "outputs": [],
   "source": []
  },
  {
   "cell_type": "code",
   "execution_count": 3,
   "id": "074b1d02",
   "metadata": {},
   "outputs": [
    {
     "name": "stdout",
     "output_type": "stream",
     "text": [
      "14\n"
     ]
    }
   ],
   "source": [
    "total2 = 0\n",
    "for i in b:\n",
    "    if i > 1:\n",
    "        total2 += i\n",
    "print(total2)"
   ]
  },
  {
   "cell_type": "code",
   "execution_count": 4,
   "id": "4aae4497",
   "metadata": {},
   "outputs": [
    {
     "name": "stdout",
     "output_type": "stream",
     "text": [
      "11175\n"
     ]
    }
   ],
   "source": [
    "total3 = 0\n",
    "for i in range(200):\n",
    "    if i < 150:\n",
    "        total3 += i\n",
    "print(total3)"
   ]
  },
  {
   "cell_type": "code",
   "execution_count": 9,
   "id": "6a7dbbfb",
   "metadata": {},
   "outputs": [
    {
     "name": "stdout",
     "output_type": "stream",
     "text": [
      "18\n"
     ]
    }
   ],
   "source": [
    "def function(x, y, z):\n",
    "    return 3*x*y\n",
    "a = function(2, 3, 4)\n",
    "print(a)"
   ]
  },
  {
   "cell_type": "code",
   "execution_count": 1,
   "id": "1e79ce8b",
   "metadata": {},
   "outputs": [
    {
     "name": "stdout",
     "output_type": "stream",
     "text": [
      "{1, 3, 5, 8, -8, -6, -5}\n",
      "17\n"
     ]
    }
   ],
   "source": [
    "given_list6 = [1, 3, -5, -6, -8, 8, 5, 5, 5]\n",
    "new_set6 = set()\n",
    "for x in given_list6:\n",
    "    new_set6.add(x)\n",
    "print(new_set6)\n",
    "total = 0\n",
    "for x in new_set6:\n",
    "    if x > 0:\n",
    "        total += x\n",
    "print(total)"
   ]
  },
  {
   "cell_type": "code",
   "execution_count": null,
   "id": "4c38a2e5",
   "metadata": {},
   "outputs": [],
   "source": []
  }
 ],
 "metadata": {
  "kernelspec": {
   "display_name": "Python 3 (ipykernel)",
   "language": "python",
   "name": "python3"
  },
  "language_info": {
   "codemirror_mode": {
    "name": "ipython",
    "version": 3
   },
   "file_extension": ".py",
   "mimetype": "text/x-python",
   "name": "python",
   "nbconvert_exporter": "python",
   "pygments_lexer": "ipython3",
   "version": "3.10.9"
  }
 },
 "nbformat": 4,
 "nbformat_minor": 5
}
